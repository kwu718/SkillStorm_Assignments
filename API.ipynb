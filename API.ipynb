{
 "cells": [
  {
   "cell_type": "markdown",
   "metadata": {},
   "source": [
    "# No Authentication Key Required"
   ]
  },
  {
   "cell_type": "code",
   "execution_count": 2,
   "metadata": {},
   "outputs": [
    {
     "data": {
      "text/plain": [
       "True"
      ]
     },
     "execution_count": 2,
     "metadata": {},
     "output_type": "execute_result"
    }
   ],
   "source": [
    "import requests, os\n",
    "from requests_oauthlib import OAuth1\n",
    "from dotenv import load_dotenv\n",
    "load_dotenv()"
   ]
  },
  {
   "cell_type": "code",
   "execution_count": 3,
   "metadata": {},
   "outputs": [
    {
     "name": "stdout",
     "output_type": "stream",
     "text": [
      "Post\n",
      " https://www.reddit.com/r/redditdev/comments/v1jln5/reddit_api_endpoint_to_know_the_comments_of_a_post/.json\n",
      "Subreddit\n",
      " redditdev\n",
      "Title\n",
      " Reddit API endpoint to know the comments of a post\n",
      "OP\n",
      " sritejkamishetty\n",
      "Post\n",
      " Is there an api endpoint to know the comments of a post, if I know the post id and the subreddit it belongs to ?. I am unable to find it in the api documentation. Any insights on this will be helpful.\n",
      "\n",
      "Thanks in advance :)\n",
      "Upvotes\n",
      " 7\n",
      "Top Comment\n",
      " The endpoint is is `/comments/[id]` or longer `/r/[subreddit]/comments/[id]`\n",
      "\n",
      "API reference: https://www.reddit.com/dev/api#GET_comments_{article}\n"
     ]
    }
   ],
   "source": [
    "\n",
    "base_url = 'https://www.reddit.com'\n",
    "reddit_api = '/r/redditdev/comments/v1jln5/reddit_api_endpoint_to_know_the_comments_of_a_post/.json'\n",
    "reddit_url = base_url + reddit_api\n",
    "\n",
    "response = requests.get(reddit_url)\n",
    "\n",
    "data = response.json()\n",
    "original_post = data[0]['data']['children'][0]['data']\n",
    "\n",
    "subreddit = original_post['subreddit']\n",
    "post_title = original_post['title']\n",
    "post = original_post['selftext']\n",
    "poster = original_post['author']\n",
    "number_up_votes = original_post['ups']\n",
    "top_comment = data[1]['data']['children'][0]['data']['body']\n",
    "\n",
    "print('Post\\n',reddit_url)\n",
    "print('Subreddit\\n', subreddit)\n",
    "print('Title\\n',post_title)\n",
    "print('OP\\n', poster)\n",
    "print('Post\\n', post)\n",
    "print('Upvotes\\n',number_up_votes)\n",
    "print('Top Comment\\n',top_comment)\n"
   ]
  },
  {
   "cell_type": "markdown",
   "metadata": {},
   "source": [
    "# Authentication Key Required HolidaysAPI"
   ]
  },
  {
   "cell_type": "code",
   "execution_count": 4,
   "metadata": {},
   "outputs": [],
   "source": [
    "base_url = 'https://holidayapi.com'\n",
    "holiday_api = '/v1/holidays'\n",
    "country_api = '/v1/countries'\n",
    "api_key = os.environ['holiday_api_key']\n",
    "params = {\n",
    "    'key': api_key,\n",
    "}\n",
    "#Gets list of countries\n",
    "country_url = base_url + country_api\n",
    "response = requests.get(country_url, params=params)\n",
    "#print(response.content)\n",
    "\n",
    "#Gets holidays in given country\n",
    "params['country'] = 'USA'\n",
    "params['year'] = 2023\n",
    "holiday_url = base_url + holiday_api\n",
    "response = requests.get(holiday_url, params=params)\n",
    "#print(response.content)\n"
   ]
  },
  {
   "cell_type": "markdown",
   "metadata": {},
   "source": [
    "# The Noun Project OAuth"
   ]
  },
  {
   "cell_type": "code",
   "execution_count": 5,
   "metadata": {},
   "outputs": [
    {
     "data": {
      "text/plain": [
       "b'{\\n  \"collections\": [\\n    {\\n      \"creator\": {\\n        \"name\": \"Landan Lloyd\",\\n        \"permalink\": \"/landan\",\\n        \"username\": \"landan\"\\n      },\\n      \"icon_count\": 332,\\n      \"id\": \"44171\",\\n      \"name\": \"Winter\",\\n      \"permalink\": \"/landan/collection/winter/\",\\n      \"tags\": [\\n        \"winter\",\\n        \"snowflake\"\\n      ]\\n    },\\n    {\\n      \"creator\": {\\n        \"name\": \"Firza Alamsyah\",\\n        \"permalink\": \"/crlxsens\",\\n        \"username\": \"crlxsens\"\\n      },\\n      \"icon_count\": 300,\\n      \"id\": \"158243\",\\n      \"name\": \"Winter Season\",\\n      \"permalink\": \"/crlxsens/collection/winter-season/\",\\n      \"tags\": [\\n        \"winter\",\\n        \"holiday\",\\n        \"season\",\\n        \"christmas\",\\n        \"cold\"\\n      ]\\n    },\\n    {\\n      \"creator\": {\\n        \"name\": \"Icon Market\",\\n        \"permalink\": \"/iconmarketpk\",\\n        \"username\": \"iconmarketpk\"\\n      },\\n      \"icon_count\": 236,\\n      \"id\": \"128691\",\\n      \"name\": \"Winter\",\\n      \"permalink\": \"/iconmarketpk/collection/winter/\",\\n      \"tags\": [\\n        \"winter\",\\n        \"weather\",\\n        \"snow-flake\",\\n        \"decoration\",\\n        \"fashion\"\\n      ]\\n    }\\n  ],\\n  \"generated_at\": \"2024-06-22 19:05:15.118427\",\\n  \"next_page\": \"31373038352E3035392C313238363931\",\\n  \"total\": 1465,\\n  \"usage_limits\": {\\n    \"monthly\": {\\n      \"limit\": 5000,\\n      \"usage\": 25\\n    }\\n  }\\n}'"
      ]
     },
     "execution_count": 5,
     "metadata": {},
     "output_type": "execute_result"
    }
   ],
   "source": [
    "import requests\n",
    "\n",
    "search_term = 'winter'\n",
    "base_url = 'https://api.thenounproject.com/v2'\n",
    "noun_api = '/collection?query=winter&limit=3&blacklist=1'\n",
    "noun_url = base_url + noun_api\n",
    "\n",
    "api_key = os.environ['noun_key']\n",
    "api_secret = os.environ['noun_secret']\n",
    "params = OAuth1(api_key, api_secret)\n",
    "\n",
    "\n",
    "response = requests.get(noun_url, auth=params)\n",
    "response.content"
   ]
  }
 ],
 "metadata": {
  "kernelspec": {
   "display_name": ".venv",
   "language": "python",
   "name": "python3"
  },
  "language_info": {
   "codemirror_mode": {
    "name": "ipython",
    "version": 3
   },
   "file_extension": ".py",
   "mimetype": "text/x-python",
   "name": "python",
   "nbconvert_exporter": "python",
   "pygments_lexer": "ipython3",
   "version": "3.12.4"
  }
 },
 "nbformat": 4,
 "nbformat_minor": 2
}
