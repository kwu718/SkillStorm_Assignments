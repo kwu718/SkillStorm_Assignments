{
 "cells": [
  {
   "cell_type": "markdown",
   "metadata": {},
   "source": [
    "Excercise 1: String Validator\n",
    "Write a function that takes in an input from the user and runs a string validation check on it. The output should be as follows.\n",
    "On the first line, print True if has any alphanumeric characters. Otherwise, print False.\n",
    "On the second line, print True if has any alphabetical characters. Otherwise, print False.\n",
    "On the third line, print True if has any digits. Otherwise, print False.\n",
    "On the fourth line, print True if has any lowercase characters. Otherwise, print False.\n",
    "On the fifth line, print True if has any uppercase characters. Otherwise, print False."
   ]
  },
  {
   "cell_type": "code",
   "execution_count": 21,
   "metadata": {},
   "outputs": [
    {
     "name": "stdout",
     "output_type": "stream",
     "text": [
      "True\n",
      "False\n",
      "True\n",
      "False\n",
      "False\n"
     ]
    }
   ],
   "source": [
    "import re\n",
    "def string_validator(input_string: str):\n",
    "    list_regex = [r\"\\w+\", r\"[a-zA-Z]+\", r\"\\d+\", r\"[a-z]+\", r\"[A-Z]+\"]\n",
    "    for reg_ex in list_regex:\n",
    "        match = bool(re.search(reg_ex, input_string))\n",
    "        if(match):\n",
    "            print(\"True\")\n",
    "        else:\n",
    "            print(\"False\")\n",
    "    \n",
    "string_validator(\"..!!!5\")"
   ]
  },
  {
   "cell_type": "markdown",
   "metadata": {},
   "source": [
    "Excercise 2: Regular Expressions\n",
    "\n",
    "Build regular expressions that matches patterns with the following constraints:\n",
    "\n",
    "Any word at the begging of a string\n",
    "Any time that the character after a whitespace is a digit\n",
    "any word with punctuation at the end of a string\n",
    "any occurances of consecutive digits 1,2, or 3\n",
    "any word with double letters (i.e. letter, filler, skill, parrot)"
   ]
  },
  {
   "cell_type": "code",
   "execution_count": 22,
   "metadata": {},
   "outputs": [
    {
     "name": "stdout",
     "output_type": "stream",
     "text": [
      "<re.Match object; span=(0, 21), match='Any 123 4 letters asd'>\n"
     ]
    }
   ],
   "source": [
    "string_example = \"Any 123 4 letters asd!\"\n",
    "\n",
    "regex = r\"[a-zA-Z]+(\\s\\d+)| [123]* [.?!]?\"\n",
    "match = re.search(r\"\\b.*([a-zA-Z])\\1.*\\b\", string_example);\n",
    "print(match)"
   ]
  },
  {
   "cell_type": "markdown",
   "metadata": {},
   "source": [
    "Excercise 3: Word Count\n",
    "\n",
    "Get an accurate word count of the Pride and Prejudice text starting from the first word of Chapter 1."
   ]
  },
  {
   "cell_type": "code",
   "execution_count": 23,
   "metadata": {},
   "outputs": [],
   "source": [
    "from string import punctuation\n",
    "file_path = 'Pride_and_Prejudice.txt'\n",
    "word_dict = {}\n",
    "start_line = 169\n",
    "with open(file = file_path, mode = 'rt', encoding = \"utf-8\") as f:\n",
    "    for i in range(start_line):\n",
    "        next(f)\n",
    "    for line in f:\n",
    "        line = re.sub(r'[^a-zA-Z0-9]', ' ', line)\n",
    "        words = line.split(' ')\n",
    "        for word in words:\n",
    "            word = word.lower()\n",
    "            word = word.strip()\n",
    "            if(len(word) < 1):\n",
    "                continue\n",
    "            if word in word_dict:\n",
    "                word_dict[word] = word_dict[word] + 1\n",
    "            else:\n",
    "                word_dict[word] = 1\n",
    "output_file = \"word_count.txt\"\n",
    "with open(file = output_file, mode = 'wt') as f:\n",
    "    for k, v in word_dict.items():\n",
    "        line = str(k) + \":\" + str(v) + '\\n'\n",
    "        f.write(line)\n",
    "\n"
   ]
  },
  {
   "cell_type": "markdown",
   "metadata": {},
   "source": [
    "Excercise 4: Word Score\n",
    "\n",
    "Write a function two take in n words and returns a single integer of their combined score.\n",
    "\n",
    "A word is worth 1 point if it has an odd number of vowels\n",
    "A word is worth 2 points if it has an even number of vowels\n",
    "Output should be the summed total of all scores of the words\n",
    "For the purposes of this excercise vowels will consist of [a,e,i,o,u,y]"
   ]
  },
  {
   "cell_type": "code",
   "execution_count": 24,
   "metadata": {},
   "outputs": [
    {
     "name": "stdout",
     "output_type": "stream",
     "text": [
      "7\n"
     ]
    }
   ],
   "source": [
    "def combine_score(*word_list):\n",
    "    vowels = r'[aeiouyAEIOUY]'\n",
    "    combine_sum = 0\n",
    "    for w in word_list:\n",
    "        if(len(re.findall(vowels, w)) % 2 != 0):\n",
    "            combine_sum += 1\n",
    "        else:\n",
    "            combine_sum += 2\n",
    "    return combine_sum\n",
    "\n",
    "print(combine_score(\"APPLE\", \"red\", \"read\", \"redundant\", \"BASKETball\"))\n",
    "\n",
    "\n",
    "#word2 = \"_you#$_\"\n",
    "#word2 = re.sub(r'[^\\w\\s-]', '', word2)\n",
    "#print(word2)\n",
    "\n",
    "#word3 = \"hello    world\"\n",
    "#print(word3.split(' '))"
   ]
  }
 ],
 "metadata": {
  "kernelspec": {
   "display_name": ".venv",
   "language": "python",
   "name": "python3"
  },
  "language_info": {
   "codemirror_mode": {
    "name": "ipython",
    "version": 3
   },
   "file_extension": ".py",
   "mimetype": "text/x-python",
   "name": "python",
   "nbconvert_exporter": "python",
   "pygments_lexer": "ipython3",
   "version": "3.12.4"
  }
 },
 "nbformat": 4,
 "nbformat_minor": 2
}
