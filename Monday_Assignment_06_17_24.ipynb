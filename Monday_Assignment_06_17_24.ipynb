{
 "cells": [
  {
   "cell_type": "markdown",
   "metadata": {},
   "source": [
    "Excercise 1: Working with Dates & Times"
   ]
  },
  {
   "cell_type": "code",
   "execution_count": 5,
   "metadata": {},
   "outputs": [
    {
     "name": "stdout",
     "output_type": "stream",
     "text": [
      "2024-06-17 18:33:23.937727\n",
      "2024-06-17\n",
      "171 days \n"
     ]
    }
   ],
   "source": [
    "import datetime\n",
    "# 1. Get the current date and time.\n",
    "time_now = datetime.datetime.now()\n",
    "print(time_now)\n",
    "\n",
    "# 2. Format the date as YYYY-MM-DD.\n",
    "print(time_now.strftime('%Y-%m-%d'))\n",
    "\n",
    "# 3. Calculate the number of days until your next birthday.\n",
    "birthday = \"2024/12/06\"\n",
    "birthday_object = datetime.datetime.strptime(birthday, \"%Y/%m/%d\")\n",
    "print((birthday_object - time_now).days, \"days \")\n"
   ]
  },
  {
   "cell_type": "markdown",
   "metadata": {},
   "source": [
    "Exercise 2: Dictionaries and Sets"
   ]
  },
  {
   "cell_type": "code",
   "execution_count": 6,
   "metadata": {},
   "outputs": [],
   "source": [
    "# 1. Create a Dictionary of 3 Students and their grades.\n",
    "dict = {\n",
    "    \"Student1\": {\n",
    "        \"grades\": 100\n",
    "    },\n",
    "    \"Student2\": {\n",
    "        \"grades\": 65\n",
    "    },\n",
    "    \"Student3\": {\n",
    "        \"grades\": 50\n",
    "    }\n",
    "}\n",
    "#print(dict)\n",
    "\n",
    "# 2. Add a fourth student to the dictionary.\n",
    "dict[\"Student4\"] = {\"grades\": 99}\n",
    "#print(dict)\n",
    "\n",
    "# 3. Change the value of each student to another dictionary of their classes.\n",
    "for k in dict.keys():\n",
    "    dict[k].clear()\n",
    "    dict[k] = {\"classes\": [\"English\", \"Math\", \"Science\"]}\n",
    "#print(dict)\n",
    "\n",
    "# 4. Add all names of the students to a set.\n",
    "set = {name for name in dict.keys()}\n",
    "#print(set)"
   ]
  },
  {
   "cell_type": "markdown",
   "metadata": {},
   "source": [
    "Exercise 3: Advanced String Operations"
   ]
  },
  {
   "cell_type": "code",
   "execution_count": 7,
   "metadata": {},
   "outputs": [],
   "source": [
    "# 1. Split a string into a list of words.\n",
    "split_string = \"Split this into a list\"\n",
    "split_list = split_string.split()\n",
    "#print(split_list)\n",
    "\n",
    "# 2. Join a list of words into a single string with pipes separating them.\n",
    "\n",
    "new_str = '|'.join(s for s in split_list)\n",
    "#print(new_str)\n",
    "\n",
    "# 3. Count the number of occurrences of a character in a string.\n",
    "\n",
    "count = new_str.count('i')\n",
    "#print(count)"
   ]
  },
  {
   "cell_type": "markdown",
   "metadata": {},
   "source": [
    "Exercise 4: Lists and Basic Operations"
   ]
  },
  {
   "cell_type": "code",
   "execution_count": 8,
   "metadata": {},
   "outputs": [],
   "source": [
    "# 1. Create a list of integers.\n",
    "list_int = [100, 23, 24, 77, 6]\n",
    "#print(list_int)\n",
    "\n",
    "# 2. Append an integer to the list.\n",
    "list_int.append(9)\n",
    "#print(list_int)\n",
    "\n",
    "# 3. Remove an integer from the list.\n",
    "list_int.remove(9)\n",
    "#print(list_int)\n",
    "# 4. Sort the list in ascending order.\n",
    "list_int.sort()\n",
    "#print(list_int)"
   ]
  },
  {
   "cell_type": "markdown",
   "metadata": {},
   "source": [
    "Challenge 1: List Comprehensions and Filtering"
   ]
  },
  {
   "cell_type": "code",
   "execution_count": 9,
   "metadata": {},
   "outputs": [
    {
     "name": "stdout",
     "output_type": "stream",
     "text": [
      "{'SQUARES': [1, 4, 9, 16, 25, 36, 49, 64, 81, 100], 'EVEN_SQUARES': [4, 16, 36, 64, 100]}\n"
     ]
    }
   ],
   "source": [
    "# 1. Use a list comprehension to create a list of squares of integers from 1 to 10.\n",
    "list_squares = [(i+1)*(i+1) for i in range(10)]\n",
    "#print(list_squares)\n",
    "\n",
    "# 2. Filter a list to include only even numbers.\n",
    "#new_list = list(filter(lambda num: num % 2 == 0, list_squares))\n",
    "even_squares = [square for square in list_squares if(square % 2 == 0)]\n",
    "#print(even_squares)\n",
    "\n",
    "# 3. Use a dictionary comprehension to create a dictionary from two lists.\n",
    "\n",
    "new_dict = {}\n",
    "new_dict[\"SQUARES\"] = list_squares\n",
    "new_dict[\"EVEN_SQUARES\"] = even_squares\n",
    "print(new_dict)"
   ]
  },
  {
   "cell_type": "markdown",
   "metadata": {},
   "source": [
    "Challenge 2: Complex Date and Time Operations"
   ]
  },
  {
   "cell_type": "code",
   "execution_count": 10,
   "metadata": {},
   "outputs": [
    {
     "name": "stdout",
     "output_type": "stream",
     "text": [
      "13\n"
     ]
    }
   ],
   "source": [
    "# 1. Parse a string into a datetime object.\n",
    "import datetime\n",
    "from datetime import timedelta\n",
    "\n",
    "date_object = datetime.datetime.strptime(\"06-17-2024\", \"%m-%d-%Y\")\n",
    "#print(date_object.date())\n",
    "\n",
    "# 2. Create a function that takes two dates and returns the number of weekdays between them.\n",
    "\n",
    "first_date = datetime.datetime.strptime(\"06-17-2024\", \"%m-%d-%Y\")\n",
    "second_date = datetime.datetime.strptime(\"07-04-2024\", \"%m-%d-%Y\")\n",
    "\n",
    "def weekdays_inbetween(first_date, second_date):\n",
    "    days_inbetween = (first_date + timedelta(x + 1) for x in range((second_date - first_date).days))\n",
    "    ctr = sum(1 for day in days_inbetween if day.weekday() < 5)\n",
    "    return ctr\n",
    "\n",
    "print(weekdays_inbetween(first_date, second_date))\n",
    "\n",
    "#days_inbetween = (first_date + timedelta(x + 1) for x in range((second_date - first_date).days))\n",
    "#ctr = sum(1 for day in days_inbetween if day.weekday() < 5)\n",
    "#print(ctr)\n",
    "\n",
    "\n",
    "# 3. Create a function that accepts a start date, end date, meeting datetime, and interval and returns all occurrences of the event within that timeframe.\n"
   ]
  },
  {
   "cell_type": "markdown",
   "metadata": {},
   "source": [
    "Challenge 3: Nested Collections and Data Aggregation"
   ]
  },
  {
   "cell_type": "code",
   "execution_count": 11,
   "metadata": {},
   "outputs": [
    {
     "name": "stdout",
     "output_type": "stream",
     "text": [
      "86.5\n",
      "Michael\n"
     ]
    }
   ],
   "source": [
    "# 1. Create a list of dictionaries representing students with their names and grades.\n",
    "dict_list = [{\"name\": \"Kevin\", \"grade\": 75}, {\"name\": \"Michael\", \"grade\": 100}, \n",
    "             {\"name\": \"John\", \"grade\": 82}, {\"name\": \"Jerry\", \"grade\": 89}]\n",
    "# 2. Calculate the average grade of the students.\n",
    "student_sum = 0\n",
    "for i in dict_list:\n",
    "    student_sum += i[\"grade\"]\n",
    "avg = (student_sum / len(dict_list))\n",
    "print(avg)\n",
    "\n",
    "# 3. Find the student with the highest grade.\n",
    "\n",
    "highest_student = \"\"\n",
    "curr_max = dict_list[0][\"grade\"]\n",
    "for i in dict_list:\n",
    "    if i[\"grade\"] > curr_max:\n",
    "        curr_max = i[\"grade\"]\n",
    "        highest_student = i[\"name\"]\n",
    "print(highest_student)"
   ]
  }
 ],
 "metadata": {
  "kernelspec": {
   "display_name": "Python 3",
   "language": "python",
   "name": "python3"
  },
  "language_info": {
   "codemirror_mode": {
    "name": "ipython",
    "version": 3
   },
   "file_extension": ".py",
   "mimetype": "text/x-python",
   "name": "python",
   "nbconvert_exporter": "python",
   "pygments_lexer": "ipython3",
   "version": "3.9.7"
  }
 },
 "nbformat": 4,
 "nbformat_minor": 2
}
