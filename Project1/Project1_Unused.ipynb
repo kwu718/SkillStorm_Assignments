{
 "cells": [
  {
   "cell_type": "code",
   "execution_count": null,
   "metadata": {},
   "outputs": [],
   "source": [
    "# Pull data from another API to confirm intial values are correct\n",
    "\n",
    "df_nike2 = pd.DataFrame(columns=['Date','Open', 'High', 'Low', 'Close', 'Volume'])\n",
    "for key, value in data['Time Series (Daily)'].items():\n",
    "    temp_date = datetime.strptime(key, '%Y-%m-%d').strftime('%m/%d/%y')\n",
    "    new_row = {'Date': temp_date, 'Open': float(value['1. open']),'High': float(value['2. high']),\n",
    "                'Low': round(float(value['3. low']), 2), 'Close': round(float(value['4. close']), 2), 'Volume': float(value['5. volume'])}\n",
    "    df_nike2 = pd.concat([df_nike2, pd.DataFrame([new_row])], ignore_index=True)"
   ]
  },
  {
   "cell_type": "code",
   "execution_count": null,
   "metadata": {},
   "outputs": [],
   "source": [
    "df3 = df_nike.merge(yahoo_df,  on = ['Date','Open', 'High', 'Low', 'Close'], how = 'inner')\n",
    "df3.head(20)\n",
    "#01/11/23\t126.32\t128.26\t126.01\t127.94"
   ]
  },
  {
   "cell_type": "code",
   "execution_count": null,
   "metadata": {},
   "outputs": [],
   "source": [
    "initial = df_nike.iloc[0]['Close']\n",
    "new = df_nike.iloc[-1]['Close']\n",
    "percent_change = (new - initial) / initial\n",
    "nike_return = 20000 + (20000 * percent_change)\n",
    "nike_return.round(2)"
   ]
  }
 ],
 "metadata": {
  "kernelspec": {
   "display_name": ".venv",
   "language": "python",
   "name": "python3"
  },
  "language_info": {
   "name": "python",
   "version": "3.12.4"
  }
 },
 "nbformat": 4,
 "nbformat_minor": 2
}
